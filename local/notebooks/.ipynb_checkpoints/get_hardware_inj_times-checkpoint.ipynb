{
 "cells": [
  {
   "cell_type": "markdown",
   "metadata": {},
   "source": [
    "# Notebook for saving hardware injection times"
   ]
  },
  {
   "cell_type": "code",
   "execution_count": 1,
   "metadata": {},
   "outputs": [],
   "source": [
    "# imports to be used in this notebook\n",
    "%matplotlib inline\n",
    "import numpy as np\n",
    "import time\n",
    "import h5py\n",
    "import matplotlib.pyplot as plt\n",
    "from os import listdir\n",
    "from os.path import isfile, join\n",
    "import sys\n",
    "from pathlib import Path"
   ]
  },
  {
   "cell_type": "markdown",
   "metadata": {},
   "source": [
    "Get hardware injection times from the injections.txt files "
   ]
  },
  {
   "cell_type": "code",
   "execution_count": 2,
   "metadata": {},
   "outputs": [
    {
     "name": "stdout",
     "output_type": "stream",
     "text": [
      "162\n"
     ]
    }
   ],
   "source": [
    "start_times = []\n",
    "end_times = []\n",
    "\n",
    "data_path = Path('../tools')\n",
    "for fname in ['O1_H1_injections.txt', 'O1_L1_injections.txt']: #, 'O2_injections.txt']:\n",
    "    with open(join(data_path, fname)) as f:\n",
    "        lines = f.readlines()\n",
    "        del lines[:2]\n",
    "        for line in lines:\n",
    "            time = line.split(' ')[0]\n",
    "            start_times.append(float(time.split('-')[0]))\n",
    "            end_times.append(float(time.split('-')[1]))\n",
    "\n",
    "tois = []\n",
    "dT = 2\n",
    "print(len(start_times))\n",
    "for s, e in zip(start_times, end_times):\n",
    "    if e - s < 2: # for short injections use the start time of the injection\n",
    "        if np.floor(s) in tois:\n",
    "            continue\n",
    "        \n",
    "        tois.append(np.floor(s))\n",
    "    \n",
    "    elif e - s < 10: # for long chirp injections use the end time of the injection\n",
    "        if np.floor(e) in tois:\n",
    "            continue\n",
    "        \n",
    "        tois.append(np.floor(e))\n",
    "    \n",
    "    else: # # for long injections split injection to 2s segments\n",
    "        for t in np.arange(s, e, dT):\n",
    "            if round(t) in tois:\n",
    "                continue\n",
    "            \n",
    "            tois.append(round(t))"
   ]
  },
  {
   "cell_type": "markdown",
   "metadata": {},
   "source": [
    "Save injection times to tois.hdf5"
   ]
  },
  {
   "cell_type": "code",
   "execution_count": 45,
   "metadata": {},
   "outputs": [
    {
     "name": "stdout",
     "output_type": "stream",
     "text": [
      "2102\n"
     ]
    }
   ],
   "source": [
    "print(len(tois))\n",
    "method = 'hardware_inj'\n",
    "\n",
    "with h5py.File('../../shared/tois.hdf5', 'a') as f:\n",
    "    if method not in f.keys():\n",
    "        del f[method]\n",
    "        f.create_dataset(method, data=tois)"
   ]
  },
  {
   "cell_type": "code",
   "execution_count": null,
   "metadata": {},
   "outputs": [],
   "source": []
  }
 ],
 "metadata": {
  "kernelspec": {
   "display_name": "Python 3",
   "language": "python",
   "name": "python3"
  },
  "language_info": {
   "codemirror_mode": {
    "name": "ipython",
    "version": 3
   },
   "file_extension": ".py",
   "mimetype": "text/x-python",
   "name": "python",
   "nbconvert_exporter": "python",
   "pygments_lexer": "ipython3",
   "version": "3.7.4"
  }
 },
 "nbformat": 4,
 "nbformat_minor": 4
}
